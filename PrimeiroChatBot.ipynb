{
  "nbformat": 4,
  "nbformat_minor": 0,
  "metadata": {
    "colab": {
      "provenance": [],
      "authorship_tag": "ABX9TyNMwd5WmGUoXwvPgOtpy0fZ",
      "include_colab_link": true
    },
    "kernelspec": {
      "name": "python3",
      "display_name": "Python 3"
    },
    "language_info": {
      "name": "python"
    }
  },
  "cells": [
    {
      "cell_type": "markdown",
      "metadata": {
        "id": "view-in-github",
        "colab_type": "text"
      },
      "source": [
        "<a href=\"https://colab.research.google.com/github/GRamosVitor/Projeto_Imersao_IA_Aula_4/blob/main/PrimeiroChatBot.ipynb\" target=\"_parent\"><img src=\"https://colab.research.google.com/assets/colab-badge.svg\" alt=\"Open In Colab\"/></a>"
      ]
    },
    {
      "cell_type": "markdown",
      "source": [
        "Instalando o SDK do Google"
      ],
      "metadata": {
        "id": "-IvH2LoG0TrM"
      }
    },
    {
      "cell_type": "code",
      "execution_count": 1,
      "metadata": {
        "id": "qBoslwm_0GGT"
      },
      "outputs": [],
      "source": [
        "!pip install -q -U google-generativeai"
      ]
    },
    {
      "cell_type": "markdown",
      "source": [
        "Importando o SDK para uso e dando um apelido (genai)"
      ],
      "metadata": {
        "id": "bJb0gROG68IB"
      }
    },
    {
      "cell_type": "code",
      "source": [
        "import google.generativeai as genai\n",
        "\n",
        "GOOGLE_API_KEY = \"YOUR_API_KEY\"\n",
        "genai.configure(api_key=GOOGLE_API_KEY)"
      ],
      "metadata": {
        "id": "NTCrJZD-0moc"
      },
      "execution_count": 3,
      "outputs": []
    },
    {
      "cell_type": "markdown",
      "source": [
        "Código para mostrar as versões disponiveis do modelo"
      ],
      "metadata": {
        "id": "XZKZepsX7FTl"
      }
    },
    {
      "cell_type": "code",
      "source": [
        "for m in genai.list_models():\n",
        "  if 'generateContent' in m.supported_generation_methods:\n",
        "    print(m.name)"
      ],
      "metadata": {
        "colab": {
          "base_uri": "https://localhost:8080/",
          "height": 138
        },
        "id": "tmp2_ynP1ZPN",
        "outputId": "24431c62-6605-4223-fb24-86b9bf2de963"
      },
      "execution_count": 6,
      "outputs": [
        {
          "output_type": "stream",
          "name": "stdout",
          "text": [
            "models/gemini-1.0-pro\n",
            "models/gemini-1.0-pro-001\n",
            "models/gemini-1.0-pro-latest\n",
            "models/gemini-1.0-pro-vision-latest\n",
            "models/gemini-1.5-pro-latest\n",
            "models/gemini-pro\n",
            "models/gemini-pro-vision\n"
          ]
        }
      ]
    },
    {
      "cell_type": "markdown",
      "source": [],
      "metadata": {
        "id": "X9thIozG7Nbq"
      }
    },
    {
      "cell_type": "markdown",
      "source": [
        "Código para configurar os parâmetros de geração do modelo.\n",
        "Temperature (\"criatividade do modelo\"), Top_k (número máximo de tokens em cada passo de selção), Top_p(probabilidade cumulativa máxima para seleção de tokens) e candidate_count (numero maximo de respostas geradas). As configurações-padrão já estão embutidas na API"
      ],
      "metadata": {
        "id": "RNFK8jjv7Q5T"
      }
    },
    {
      "cell_type": "code",
      "source": [
        "generation_config = {\n",
        "    \"candidate_count\" : 1,\n",
        "    \"temperature\": 0.5,\n",
        "}"
      ],
      "metadata": {
        "id": "Q52OPbLe5IRY"
      },
      "execution_count": 7,
      "outputs": []
    },
    {
      "cell_type": "markdown",
      "source": [
        "Código para configurar os parâmetros de segurança do modelo. As configurações-padrão já estão embutidas na API"
      ],
      "metadata": {
        "id": "lp40IOy88epL"
      }
    },
    {
      "cell_type": "code",
      "source": [
        "safety_settings = {\n",
        "    \"HARASSMENT\": \"BLOCK_NONE\",\n",
        "    \"HATE\": \"BLOCK_NONE\",\n",
        "    \"SEXUAL\": \"BLOCK_NONE\",\n",
        "    \"DANGEROUS\": \"BLOCK_NONE\"\n",
        "}"
      ],
      "metadata": {
        "id": "nucIbMC-6CG-"
      },
      "execution_count": 8,
      "outputs": []
    },
    {
      "cell_type": "markdown",
      "source": [
        "Inicalizando o modelo.\n",
        "Para iniciar o modelo é necessário determinar o nome do modelo entre aspas e suas configurações de geração de respostas e de segurança (determinadas nos passos anteriores). Caso não se deseje configurar o modelo, basta dar o nome do mesmo."
      ],
      "metadata": {
        "id": "Hptl63Ll9NEB"
      }
    },
    {
      "cell_type": "code",
      "source": [
        "model = genai.GenerativeModel(model_name=\"gemini-1.0-pro\",\n",
        "                              generation_config=generation_config,\n",
        "                              safety_settings=safety_settings\n",
        "                              )"
      ],
      "metadata": {
        "id": "_FzgGrfq9On6"
      },
      "execution_count": 9,
      "outputs": []
    },
    {
      "cell_type": "markdown",
      "source": [
        "Gerando a primeira forma do modelo"
      ],
      "metadata": {
        "id": "PwZiE4OX-Ig4"
      }
    },
    {
      "cell_type": "code",
      "source": [
        "response = model.generate_content(\"Vamos aprender conteúdo sobre IA. Me dê sugestões\")\n",
        "print(response.text)"
      ],
      "metadata": {
        "id": "x6bSAIZg6BAs"
      },
      "execution_count": null,
      "outputs": []
    },
    {
      "cell_type": "markdown",
      "source": [
        "Criação do chat com historico. Os colchetes representam uma lista (no caso, vazia)"
      ],
      "metadata": {
        "id": "Noh8HIsB_LiK"
      }
    },
    {
      "cell_type": "code",
      "source": [
        "chat = model.start_chat(history=[])"
      ],
      "metadata": {
        "id": "x32uA-Bu_IwB"
      },
      "execution_count": 12,
      "outputs": []
    },
    {
      "cell_type": "markdown",
      "source": [
        "Criando o prompt para introdução dos textos. Os textos fornecidos no input são mandados para o chat (criado no passo anterior)"
      ],
      "metadata": {
        "id": "t0vcxivv_1Xf"
      }
    },
    {
      "cell_type": "code",
      "source": [
        "prompt = input(\"Esperando Prompt: \")\n",
        "\n",
        "while prompt != \"fim\" :\n",
        "  response = chat.send_message(prompt)\n",
        "  print(\"Resposta: \", response.text, \"\\n\")\n",
        "  prompt = input(\"Esperando Prompt: \")\n"
      ],
      "metadata": {
        "id": "kwHoBmEl_uHs"
      },
      "execution_count": null,
      "outputs": []
    },
    {
      "cell_type": "markdown",
      "source": [
        "Com o código abaixo, melhoramos a visualização do chat. Dessa forma, definimos uma estrutura que deixa o texto mais apresentável (estilo Markdown)"
      ],
      "metadata": {
        "id": "ai4rv-0nB2mo"
      }
    },
    {
      "cell_type": "code",
      "source": [
        "chat.history"
      ],
      "metadata": {
        "id": "T-yZFJrWEZC7"
      },
      "execution_count": null,
      "outputs": []
    },
    {
      "cell_type": "code",
      "source": [
        "import textwrap\n",
        "from IPython.display import display\n",
        "from IPython.display import Markdown\n",
        "\n",
        "def to_markdown(text):\n",
        "  text = text.replace('•', '  *')\n",
        "  return Markdown(textwrap.indent(text, '> ', predicate=lambda _: True))\n",
        "\n",
        "for message in chat.history:\n",
        "  display(to_markdown(f'**{message.role}**: {message.parts[0].text}'))\n",
        "  print('-------------------------------------------')"
      ],
      "metadata": {
        "id": "b4T7j_AEB1Nw"
      },
      "execution_count": null,
      "outputs": []
    }
  ]
}